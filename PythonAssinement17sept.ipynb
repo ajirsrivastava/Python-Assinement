{
 "cells": [
  {
   "cell_type": "code",
   "execution_count": null,
   "id": "3032442a-a76c-4957-b19c-f6a6ea858d8e",
   "metadata": {},
   "outputs": [],
   "source": [
    "Write a Python program to print numbers from 1 to 10 using a for loop.\n",
    "Explain the difference between a for loop and a while loop in Python.\n",
    "Write a Python program to calculate the sum of all numbers from 1 to 100 using a for loop.\n",
    "How do you iterate through a list using a for loop in Python?\n",
    "Write a Python program to find the product of all elements in a list using a for loop.\n",
    "Create a Python program that prints all even numbers from 1 to 20 using a for loop.\n",
    "Write a Python program that calculates the factorial of a number using a for loop.\n",
    "How can you iterate through the characters of a string using a for loop in Python?\n",
    "Write a Python program to find the largest number in a list using a for loop.\n",
    "Create a Python program that prints the Fibonacci sequence up to a specified limit using a for loop.\n",
    "Write a Python program to count the number of vowels in a given string using a for loop.\n",
    "Create a Python program that generates a multiplication table for a given number using a for loop.\n",
    "Write a Python program to reverse a list using a for loop.\n",
    "Write a Python program to find the common elements between two lists using a for loop.\n",
    "Explain how to use a for loop to iterate through the keys and values of a dictionary in Python.\n",
    "Write a Python program to find the GCD (Greatest Common Divisor) of two numbers using a for loop.\n",
    "Create a Python program that checks if a string is a palindrome using a for loop.\n",
    "Write a Python program to remove duplicates from a list using a for loop.\n",
    "Create a Python program that counts the number of words in a sentence using a for loop.\n",
    "Write a Python program to find the sum of all odd numbers from 1 to 50 using a for loop.\n",
    "Write a Python program that checks if a given year is a leap year using a for loop.\n",
    "Create a Python program that calculates the square root of a number using a for loop.\n",
    "Write a Python program to find the LCM (Least Common Multiple) of two numbers using a for loop.\n",
    "\n"
   ]
  },
  {
   "cell_type": "code",
   "execution_count": 2,
   "id": "cb7d9d25-9b26-4f7a-af60-af659a9d7925",
   "metadata": {},
   "outputs": [
    {
     "name": "stdout",
     "output_type": "stream",
     "text": [
      "1\n",
      "2\n",
      "3\n",
      "4\n",
      "5\n",
      "6\n",
      "7\n",
      "8\n",
      "9\n",
      "10\n"
     ]
    }
   ],
   "source": [
    "for i in range(1, 11):\n",
    "    print(i)\n"
   ]
  },
  {
   "cell_type": "code",
   "execution_count": 4,
   "id": "d9a3e7f3-898d-43e1-8cf9-d1086fba3393",
   "metadata": {},
   "outputs": [],
   "source": [
    "#For loop: It is used for iterating over a sequence (such as a list, tuple, string, etc.) \n",
    "#or executing a block of code a specific number of times.\n",
    "#While loop: It repeatedly executes a block of code as long as a specified condition is true. \n",
    "#It's suitable when the number of iterations is not predetermined."
   ]
  },
  {
   "cell_type": "code",
   "execution_count": 5,
   "id": "8bd79c91-4877-489d-accd-d4652a114103",
   "metadata": {},
   "outputs": [
    {
     "name": "stdout",
     "output_type": "stream",
     "text": [
      "The sum of numbers from 1 to 100 is: 5050\n"
     ]
    }
   ],
   "source": [
    "sum_numbers = 0\n",
    "for i in range(1, 101):\n",
    "    sum_numbers += i\n",
    "print(\"The sum of numbers from 1 to 100 is:\", sum_numbers)\n"
   ]
  },
  {
   "cell_type": "code",
   "execution_count": 6,
   "id": "3af893c8-9608-427d-95c4-5ed6b9aab7cc",
   "metadata": {},
   "outputs": [
    {
     "name": "stdout",
     "output_type": "stream",
     "text": [
      "1\n",
      "2\n",
      "3\n",
      "4\n",
      "5\n"
     ]
    }
   ],
   "source": [
    "my_list = [1, 2, 3, 4, 5]\n",
    "for item in my_list:\n",
    "    print(item)\n"
   ]
  },
  {
   "cell_type": "code",
   "execution_count": 7,
   "id": "9b8b19bb-5c46-4fc1-bd9d-580fe7247151",
   "metadata": {},
   "outputs": [
    {
     "name": "stdout",
     "output_type": "stream",
     "text": [
      "The product of elements in the list: 120\n"
     ]
    }
   ],
   "source": [
    "my_list = [2, 3, 4, 5]\n",
    "product = 1\n",
    "for num in my_list:\n",
    "    product *= num\n",
    "print(\"The product of elements in the list:\", product)\n"
   ]
  },
  {
   "cell_type": "code",
   "execution_count": 8,
   "id": "dea21c0e-0788-4009-b20b-73616bf12aa8",
   "metadata": {},
   "outputs": [
    {
     "name": "stdout",
     "output_type": "stream",
     "text": [
      "2\n",
      "4\n",
      "6\n",
      "8\n",
      "10\n",
      "12\n",
      "14\n",
      "16\n",
      "18\n",
      "20\n"
     ]
    }
   ],
   "source": [
    "for i in range(2, 21, 2):\n",
    "    print(i)\n"
   ]
  },
  {
   "cell_type": "code",
   "execution_count": 9,
   "id": "5c3c09c6-bb3a-4c9e-9d81-b636dfae648c",
   "metadata": {},
   "outputs": [
    {
     "name": "stdin",
     "output_type": "stream",
     "text": [
      "Enter a number:  5\n"
     ]
    },
    {
     "name": "stdout",
     "output_type": "stream",
     "text": [
      "The factorial of 5 is: 120\n"
     ]
    }
   ],
   "source": [
    "number = int(input(\"Enter a number: \"))\n",
    "factorial = 1\n",
    "for i in range(1, number + 1):\n",
    "    factorial *= i\n",
    "print(\"The factorial of\", number, \"is:\", factorial)\n"
   ]
  },
  {
   "cell_type": "code",
   "execution_count": 10,
   "id": "10ef9328-dd69-4f49-ab05-682f20fb1b56",
   "metadata": {},
   "outputs": [
    {
     "name": "stdout",
     "output_type": "stream",
     "text": [
      "H\n",
      "e\n",
      "l\n",
      "l\n",
      "o\n"
     ]
    }
   ],
   "source": [
    "my_string = \"Hello\"\n",
    "for char in my_string:\n",
    "    print(char)\n"
   ]
  },
  {
   "cell_type": "code",
   "execution_count": 11,
   "id": "932961d3-1d15-468b-b006-034f415cfae8",
   "metadata": {},
   "outputs": [
    {
     "name": "stdout",
     "output_type": "stream",
     "text": [
      "The largest number in the list is: 50\n"
     ]
    }
   ],
   "source": [
    "my_list = [10, 30, 20, 50, 40]\n",
    "max_number = my_list[0]\n",
    "for num in my_list:\n",
    "    if num > max_number:\n",
    "        max_number = num\n",
    "print(\"The largest number in the list is:\", max_number)\n"
   ]
  },
  {
   "cell_type": "code",
   "execution_count": 12,
   "id": "b2bc672c-ac39-492e-956c-8449bec97df1",
   "metadata": {},
   "outputs": [
    {
     "name": "stdin",
     "output_type": "stream",
     "text": [
      "Enter the limit for the Fibonacci sequence:  15\n"
     ]
    },
    {
     "name": "stdout",
     "output_type": "stream",
     "text": [
      "Fibonacci sequence up to 15 : 0 1 1 2 3 5 8 13 21 34 55 89 144 233 377 "
     ]
    }
   ],
   "source": [
    "limit = int(input(\"Enter the limit for the Fibonacci sequence: \"))\n",
    "a, b = 0, 1\n",
    "print(\"Fibonacci sequence up to\", limit, \":\", end=\" \")\n",
    "for i in range(limit):\n",
    "    print(a, end=\" \")\n",
    "    a, b = b, a + b\n"
   ]
  },
  {
   "cell_type": "code",
   "execution_count": 13,
   "id": "2d206b31-7c93-4137-8afa-c8a0529df53a",
   "metadata": {},
   "outputs": [
    {
     "name": "stdout",
     "output_type": "stream",
     "text": [
      "The number of vowels in the string: 4\n"
     ]
    }
   ],
   "source": [
    "input_string = \"Python Programming\"\n",
    "vowels = \"aeiouAEIOU\"\n",
    "count = 0\n",
    "for char in input_string:\n",
    "    if char in vowels:\n",
    "        count += 1\n",
    "print(\"The number of vowels in the string:\", count)\n"
   ]
  },
  {
   "cell_type": "code",
   "execution_count": 14,
   "id": "001d000d-6a78-478d-a441-7afdf30dd462",
   "metadata": {},
   "outputs": [
    {
     "name": "stdin",
     "output_type": "stream",
     "text": [
      "Enter a number to generate its multiplication table:  2\n"
     ]
    },
    {
     "name": "stdout",
     "output_type": "stream",
     "text": [
      "Multiplication table of 2:\n",
      "2 * 1 = 2\n",
      "2 * 2 = 4\n",
      "2 * 3 = 6\n",
      "2 * 4 = 8\n",
      "2 * 5 = 10\n",
      "2 * 6 = 12\n",
      "2 * 7 = 14\n",
      "2 * 8 = 16\n",
      "2 * 9 = 18\n",
      "2 * 10 = 20\n"
     ]
    }
   ],
   "source": [
    "num = int(input(\"Enter a number to generate its multiplication table: \"))\n",
    "print(f\"Multiplication table of {num}:\")\n",
    "for i in range(1, 11):\n",
    "    print(f\"{num} * {i} = {num * i}\")\n"
   ]
  },
  {
   "cell_type": "code",
   "execution_count": 15,
   "id": "88fecdd2-e49c-4266-8d9a-77e0a1321ab5",
   "metadata": {},
   "outputs": [
    {
     "name": "stdout",
     "output_type": "stream",
     "text": [
      "Original list: [1, 2, 3, 4, 5]\n",
      "Reversed list: [5, 4, 3, 2, 1]\n"
     ]
    }
   ],
   "source": [
    "my_list = [1, 2, 3, 4, 5]\n",
    "reversed_list = []\n",
    "for i in range(len(my_list) - 1, -1, -1):\n",
    "    reversed_list.append(my_list[i])\n",
    "print(\"Original list:\", my_list)\n",
    "print(\"Reversed list:\", reversed_list)\n"
   ]
  },
  {
   "cell_type": "code",
   "execution_count": 16,
   "id": "10b8b261-26bf-4b2c-97e0-36c6ae18428c",
   "metadata": {},
   "outputs": [
    {
     "name": "stdout",
     "output_type": "stream",
     "text": [
      "Common elements between the lists: [3, 4, 5]\n"
     ]
    }
   ],
   "source": [
    "list1 = [1, 2, 3, 4, 5]\n",
    "list2 = [3, 4, 5, 6, 7]\n",
    "common_elements = []\n",
    "for item in list1:\n",
    "    if item in list2:\n",
    "        common_elements.append(item)\n",
    "print(\"Common elements between the lists:\", common_elements)\n"
   ]
  },
  {
   "cell_type": "code",
   "execution_count": 17,
   "id": "c45cd66d-42eb-4574-b1f4-9fa295e291d7",
   "metadata": {},
   "outputs": [
    {
     "name": "stdout",
     "output_type": "stream",
     "text": [
      "Key: a, Value: 1\n",
      "Key: b, Value: 2\n",
      "Key: c, Value: 3\n"
     ]
    }
   ],
   "source": [
    "my_dict = {'a': 1, 'b': 2, 'c': 3}\n",
    "for key, value in my_dict.items():\n",
    "    print(f\"Key: {key}, Value: {value}\")\n"
   ]
  },
  {
   "cell_type": "code",
   "execution_count": 18,
   "id": "6b0ce070-c37c-4706-8361-4f281ad543ff",
   "metadata": {},
   "outputs": [
    {
     "name": "stdin",
     "output_type": "stream",
     "text": [
      "Enter first number:  10\n",
      "Enter second number:  20\n"
     ]
    },
    {
     "name": "stdout",
     "output_type": "stream",
     "text": [
      "The Greatest Common Divisor (GCD) is: 10\n"
     ]
    }
   ],
   "source": [
    "def gcd(a, b):\n",
    "    while b:\n",
    "        a, b = b, a % b\n",
    "    return a\n",
    "\n",
    "num1 = int(input(\"Enter first number: \"))\n",
    "num2 = int(input(\"Enter second number: \"))\n",
    "result = gcd(num1, num2)\n",
    "print(\"The Greatest Common Divisor (GCD) is:\", result)\n"
   ]
  },
  {
   "cell_type": "code",
   "execution_count": 19,
   "id": "9b4dfe2c-c282-41f9-8440-3575a60dbb24",
   "metadata": {},
   "outputs": [
    {
     "name": "stdout",
     "output_type": "stream",
     "text": [
      "The string is a palindrome.\n"
     ]
    }
   ],
   "source": [
    "input_string = \"madam\"\n",
    "reversed_string = \"\"\n",
    "for char in input_string:\n",
    "    reversed_string = char + reversed_string\n",
    "if input_string == reversed_string:\n",
    "    print(\"The string is a palindrome.\")\n",
    "else:\n",
    "    print(\"The string is not a palindrome.\")\n"
   ]
  },
  {
   "cell_type": "code",
   "execution_count": 20,
   "id": "31d2427e-0b80-4d31-b90a-154387354e3e",
   "metadata": {},
   "outputs": [
    {
     "name": "stdout",
     "output_type": "stream",
     "text": [
      "Original list: [1, 2, 2, 3, 4, 4, 5]\n",
      "List with duplicates removed: [1, 2, 3, 4, 5]\n"
     ]
    }
   ],
   "source": [
    "my_list = [1, 2, 2, 3, 4, 4, 5]\n",
    "unique_list = []\n",
    "for item in my_list:\n",
    "    if item not in unique_list:\n",
    "        unique_list.append(item)\n",
    "print(\"Original list:\", my_list)\n",
    "print(\"List with duplicates removed:\", unique_list)\n"
   ]
  },
  {
   "cell_type": "code",
   "execution_count": 21,
   "id": "7f945af7-abe2-44f5-8d70-f47f738385cc",
   "metadata": {},
   "outputs": [
    {
     "name": "stdout",
     "output_type": "stream",
     "text": [
      "Number of words in the sentence: 5\n"
     ]
    }
   ],
   "source": [
    "sentence = \"This is a sample sentence.\"\n",
    "word_count = 0\n",
    "for word in sentence.split():\n",
    "    word_count += 1\n",
    "print(\"Number of words in the sentence:\", word_count)\n"
   ]
  },
  {
   "cell_type": "code",
   "execution_count": 22,
   "id": "00a3c172-d880-4344-89e7-a6eb22ed43a7",
   "metadata": {},
   "outputs": [
    {
     "name": "stdout",
     "output_type": "stream",
     "text": [
      "The sum of odd numbers from 1 to 50 is: 625\n"
     ]
    }
   ],
   "source": [
    "sum_odd = 0\n",
    "for i in range(1, 51, 2):\n",
    "    sum_odd += i\n",
    "print(\"The sum of odd numbers from 1 to 50 is:\", sum_odd)\n"
   ]
  },
  {
   "cell_type": "code",
   "execution_count": 23,
   "id": "fa99254f-6c79-4991-aea3-770b3e1c9f75",
   "metadata": {},
   "outputs": [
    {
     "name": "stdin",
     "output_type": "stream",
     "text": [
      "Enter a year:  1954\n"
     ]
    },
    {
     "name": "stdout",
     "output_type": "stream",
     "text": [
      "1954 is not a leap year.\n"
     ]
    }
   ],
   "source": [
    "year = int(input(\"Enter a year: \"))\n",
    "is_leap_year = False\n",
    "for i in range(4, year + 1, 4):\n",
    "    if i == year:\n",
    "        is_leap_year = True\n",
    "        break\n",
    "if is_leap_year:\n",
    "    print(year, \"is a leap year.\")\n",
    "else:\n",
    "    print(year, \"is not a leap year.\")\n"
   ]
  },
  {
   "cell_type": "code",
   "execution_count": 24,
   "id": "69c33dab-31a3-4944-8f7a-8022e6650b27",
   "metadata": {},
   "outputs": [
    {
     "name": "stdin",
     "output_type": "stream",
     "text": [
      "Enter a number:  5\n"
     ]
    },
    {
     "name": "stdout",
     "output_type": "stream",
     "text": [
      "The square root of 5.0 is approximately: 2.23606797749979\n"
     ]
    }
   ],
   "source": [
    "number = float(input(\"Enter a number: \"))\n",
    "square_root = 1\n",
    "for i in range(1, 11):\n",
    "    square_root = 0.5 * (square_root + (number / square_root))\n",
    "print(\"The square root of\", number, \"is approximately:\", square_root)\n"
   ]
  },
  {
   "cell_type": "code",
   "execution_count": 25,
   "id": "5d1a4a4f-26b3-40dc-899a-f768fd4dfe14",
   "metadata": {},
   "outputs": [
    {
     "name": "stdin",
     "output_type": "stream",
     "text": [
      "Enter first number:  1\n",
      "Enter second number:  2\n"
     ]
    },
    {
     "name": "stdout",
     "output_type": "stream",
     "text": [
      "The Least Common Multiple (LCM) is: 2\n"
     ]
    }
   ],
   "source": [
    "def gcd(a, b):\n",
    "    while b:\n",
    "        a, b = b, a % b\n",
    "    return a\n",
    "\n",
    "num1 = int(input(\"Enter first number: \"))\n",
    "num2 = int(input(\"Enter second number: \"))\n",
    "lcm = (num1 * num2) // gcd(num1, num2)\n",
    "print(\"The Least Common Multiple (LCM) is:\", lcm)\n"
   ]
  },
  {
   "cell_type": "code",
   "execution_count": null,
   "id": "808b7873-3d51-4cba-aae8-9e277286b10c",
   "metadata": {},
   "outputs": [],
   "source": [
    "Write a Python program to check if a number is positive, negative, or zero using an if-else statement.\n",
    "Create a Python program that checks if a given number is even or odd using an if-else statement.\n",
    "How can you use nested if-else statements in Python, and provide an example?\n",
    "Write a Python program to determine the largest of three numbers using if-else.\n",
    "Write a Python program that calculates the absolute value of a number using if-else.\n",
    "Create a Python program that checks if a given character is a vowel or consonant using if-else.\n",
    "Write a Python program to determine if a user is eligible to vote based on their age using if-else.\n",
    "Create a Python program that calculates the discount amount based on the purchase amount using if-else.\n",
    "Write a Python program to check if a number is within a specified range using if-else.\n",
    "Create a Python program that determines the grade of a student based on their score using if-else.\n",
    "Write a Python program to check if a string is empty or not using if-else.\n",
    "Create a Python program that identifies the type of a triangle (e.g., equilateral, isosceles, or scalene) based on input values using if-else.\n",
    "Write a Python program to determine the day of the week based on a user-provided number using if-else.\n",
    "Create a Python program that checks if a given year is a leap year using both if-else and a function.\n",
    "How do you use the \"assert\" statement in Python to add debugging checks within if-else blocks?\n",
    "Create a Python program that determines the eligibility of a person for a senior citizen discount based on age using if-else.\n",
    "Write a Python program to categorize a given character as uppercase, lowercase, or neither using if-else.\n",
    "Write a Python program to determine the roots of a quadratic equation using if-else.\n",
    "Create a Python program that checks if a given year is a century year or not using if-else.\n",
    "Write a Python program to determine if a given number is a perfect square using if-else.\n",
    "Explain the purpose of the \"continue\" and \"break\" statements within if-else loops.\n",
    "Create a Python program that calculates the BMI (Body Mass Index) of a person based on their weight and height using if-else.\n",
    "How can you use the \"filter()\" function with if-else statements to filter elements from a list?\n",
    "Write a Python program to determine if a given number is prime or not using if-else.\n",
    "\n"
   ]
  },
  {
   "cell_type": "code",
   "execution_count": 26,
   "id": "4b75af76-ef50-4a69-b162-ba7085632975",
   "metadata": {},
   "outputs": [
    {
     "name": "stdin",
     "output_type": "stream",
     "text": [
      "Enter a number:  5\n"
     ]
    },
    {
     "name": "stdout",
     "output_type": "stream",
     "text": [
      "The number is positive.\n"
     ]
    }
   ],
   "source": [
    "number = float(input(\"Enter a number: \"))\n",
    "if number > 0:\n",
    "    print(\"The number is positive.\")\n",
    "elif number < 0:\n",
    "    print(\"The number is negative.\")\n",
    "else:\n",
    "    print(\"The number is zero.\")\n"
   ]
  },
  {
   "cell_type": "code",
   "execution_count": 27,
   "id": "1eb1a713-6d22-4ef2-8400-7f4f04b9d47f",
   "metadata": {},
   "outputs": [
    {
     "name": "stdin",
     "output_type": "stream",
     "text": [
      "Enter a number:  12\n"
     ]
    },
    {
     "name": "stdout",
     "output_type": "stream",
     "text": [
      "The number is even.\n"
     ]
    }
   ],
   "source": [
    "number = int(input(\"Enter a number: \"))\n",
    "if number % 2 == 0:\n",
    "    print(\"The number is even.\")\n",
    "else:\n",
    "    print(\"The number is odd.\")\n"
   ]
  },
  {
   "cell_type": "code",
   "execution_count": 28,
   "id": "2da4bc90-8f7c-4d80-b53f-dcb8181f0fc2",
   "metadata": {},
   "outputs": [
    {
     "name": "stdin",
     "output_type": "stream",
     "text": [
      "Enter a number:  7\n"
     ]
    },
    {
     "name": "stdout",
     "output_type": "stream",
     "text": [
      "The number is positive.\n",
      "The number is positive and odd.\n"
     ]
    }
   ],
   "source": [
    "num = int(input(\"Enter a number: \"))\n",
    "if num > 0:\n",
    "    print(\"The number is positive.\")\n",
    "    if num % 2 == 0:\n",
    "        print(\"The number is positive and even.\")\n",
    "    else:\n",
    "        print(\"The number is positive and odd.\")\n",
    "elif num < 0:\n",
    "    print(\"The number is negative.\")\n",
    "else:\n",
    "    print(\"The number is zero.\")\n"
   ]
  },
  {
   "cell_type": "code",
   "execution_count": 29,
   "id": "fd9e760c-1109-4f4a-9e09-7e775268700a",
   "metadata": {},
   "outputs": [
    {
     "name": "stdin",
     "output_type": "stream",
     "text": [
      "Enter first number:  1\n",
      "Enter second number:  2\n",
      "Enter third number:  6\n"
     ]
    },
    {
     "name": "stdout",
     "output_type": "stream",
     "text": [
      "The largest number is: 6.0\n"
     ]
    }
   ],
   "source": [
    "num1 = float(input(\"Enter first number: \"))\n",
    "num2 = float(input(\"Enter second number: \"))\n",
    "num3 = float(input(\"Enter third number: \"))\n",
    "if num1 >= num2 and num1 >= num3:\n",
    "    print(\"The largest number is:\", num1)\n",
    "elif num2 >= num1 and num2 >= num3:\n",
    "    print(\"The largest number is:\", num2)\n",
    "else:\n",
    "    print(\"The largest number is:\", num3)\n"
   ]
  },
  {
   "cell_type": "code",
   "execution_count": 30,
   "id": "76ebdd24-a618-4da4-a01e-272bd765524c",
   "metadata": {},
   "outputs": [
    {
     "name": "stdin",
     "output_type": "stream",
     "text": [
      "Enter a number:  9\n"
     ]
    },
    {
     "name": "stdout",
     "output_type": "stream",
     "text": [
      "The absolute value is: 9.0\n"
     ]
    }
   ],
   "source": [
    "number = float(input(\"Enter a number: \"))\n",
    "if number >= 0:\n",
    "    print(\"The absolute value is:\", number)\n",
    "else:\n",
    "    print(\"The absolute value is:\", -number)\n"
   ]
  },
  {
   "cell_type": "code",
   "execution_count": 31,
   "id": "06317f48-758f-4028-9fe8-7934d4cd1794",
   "metadata": {},
   "outputs": [
    {
     "name": "stdin",
     "output_type": "stream",
     "text": [
      "Enter a character:  ajir\n"
     ]
    },
    {
     "name": "stdout",
     "output_type": "stream",
     "text": [
      "The character is a consonant.\n"
     ]
    }
   ],
   "source": [
    "char = input(\"Enter a character: \")\n",
    "if char.lower() in 'aeiou':\n",
    "    print(\"The character is a vowel.\")\n",
    "else:\n",
    "    print(\"The character is a consonant.\")\n"
   ]
  },
  {
   "cell_type": "code",
   "execution_count": 32,
   "id": "ff1b715e-cadb-4b84-ba22-3cf971afe953",
   "metadata": {},
   "outputs": [
    {
     "name": "stdin",
     "output_type": "stream",
     "text": [
      "Enter your age:  2005\n"
     ]
    },
    {
     "name": "stdout",
     "output_type": "stream",
     "text": [
      "You are eligible to vote.\n"
     ]
    }
   ],
   "source": [
    "age = int(input(\"Enter your age: \"))\n",
    "if age >= 18:\n",
    "    print(\"You are eligible to vote.\")\n",
    "else:\n",
    "    print(\"You are not eligible to vote.\")\n"
   ]
  },
  {
   "cell_type": "code",
   "execution_count": 33,
   "id": "404624a4-eb69-4d6e-b347-92196481f68e",
   "metadata": {},
   "outputs": [
    {
     "name": "stdin",
     "output_type": "stream",
     "text": [
      "Enter the purchase amount:  1236\n"
     ]
    },
    {
     "name": "stdout",
     "output_type": "stream",
     "text": [
      "You got a 10% discount of $123.60\n"
     ]
    }
   ],
   "source": [
    "purchase_amount = float(input(\"Enter the purchase amount: \"))\n",
    "discount = 0\n",
    "if purchase_amount > 1000:\n",
    "    discount = 0.1 * purchase_amount\n",
    "    print(f\"You got a 10% discount of ${discount:.2f}\")\n",
    "else:\n",
    "    print(\"No discount applied.\")\n"
   ]
  },
  {
   "cell_type": "code",
   "execution_count": 34,
   "id": "e48f45c4-fa73-4ce3-9b9a-09e46a3ae06b",
   "metadata": {},
   "outputs": [
    {
     "name": "stdin",
     "output_type": "stream",
     "text": [
      "Enter a number:  1456\n"
     ]
    },
    {
     "name": "stdout",
     "output_type": "stream",
     "text": [
      "The number is outside the range.\n"
     ]
    }
   ],
   "source": [
    "number = float(input(\"Enter a number: \"))\n",
    "if 10 <= number <= 50:\n",
    "    print(\"The number is within the range.\")\n",
    "else:\n",
    "    print(\"The number is outside the range.\")\n"
   ]
  },
  {
   "cell_type": "code",
   "execution_count": 35,
   "id": "c4efab31-9e32-4f59-8bc7-c77fbf6d5820",
   "metadata": {},
   "outputs": [
    {
     "name": "stdin",
     "output_type": "stream",
     "text": [
      "Enter the student's score:  14\n"
     ]
    },
    {
     "name": "stdout",
     "output_type": "stream",
     "text": [
      "Grade: F\n"
     ]
    }
   ],
   "source": [
    "score = float(input(\"Enter the student's score: \"))\n",
    "if 90 <= score <= 100:\n",
    "    print(\"Grade: A\")\n",
    "elif 80 <= score < 90:\n",
    "    print(\"Grade: B\")\n",
    "elif 70 <= score < 80:\n",
    "    print(\"Grade: C\")\n",
    "elif 60 <= score < 70:\n",
    "    print(\"Grade: D\")\n",
    "else:\n",
    "    print(\"Grade: F\")\n"
   ]
  },
  {
   "cell_type": "code",
   "execution_count": 36,
   "id": "ecc0452d-7199-4edf-9075-e9372c87c4bd",
   "metadata": {},
   "outputs": [
    {
     "name": "stdin",
     "output_type": "stream",
     "text": [
      "Enter a string:  \"srivastava\"\n"
     ]
    },
    {
     "name": "stdout",
     "output_type": "stream",
     "text": [
      "The string is not empty.\n"
     ]
    }
   ],
   "source": [
    "user_input = input(\"Enter a string: \")\n",
    "if user_input:\n",
    "    print(\"The string is not empty.\")\n",
    "else:\n",
    "    print(\"The string is empty.\")\n"
   ]
  },
  {
   "cell_type": "code",
   "execution_count": 38,
   "id": "c73f619e-59b2-4f0a-8766-af189f6b1c32",
   "metadata": {},
   "outputs": [
    {
     "name": "stdin",
     "output_type": "stream",
     "text": [
      "Enter side 1:  2\n",
      "Enter side 2:  4\n",
      "Enter side 3:  6\n"
     ]
    },
    {
     "name": "stdout",
     "output_type": "stream",
     "text": [
      "It is a scalene triangle.\n"
     ]
    }
   ],
   "source": [
    "side1 = float(input(\"Enter side 1: \"))\n",
    "side2 = float(input(\"Enter side 2: \"))\n",
    "side3 = float(input(\"Enter side 3: \"))\n",
    "if side1 == side2 == side3:\n",
    "    print(\"It is an equilateral triangle.\")\n",
    "elif side1 == side2 or side2 == side3 or side1 == side3:\n",
    "    print(\"It is an isosceles triangle.\")\n",
    "else:\n",
    "    print(\"It is a scalene triangle.\")\n"
   ]
  },
  {
   "cell_type": "code",
   "execution_count": 39,
   "id": "7127484b-2163-42a3-8279-1053b62cc705",
   "metadata": {},
   "outputs": [
    {
     "name": "stdin",
     "output_type": "stream",
     "text": [
      "Enter a number for the day (1 for Monday, 2 for Tuesday, etc.):  4\n"
     ]
    },
    {
     "name": "stdout",
     "output_type": "stream",
     "text": [
      "Thursday\n"
     ]
    }
   ],
   "source": [
    "day_number = int(input(\"Enter a number for the day (1 for Monday, 2 for Tuesday, etc.): \"))\n",
    "if day_number == 1:\n",
    "    print(\"Monday\")\n",
    "elif day_number == 2:\n",
    "    print(\"Tuesday\")\n",
    "elif day_number == 3:\n",
    "    print(\"Wednesday\")\n",
    "elif day_number == 4:\n",
    "    print(\"Thursday\")\n",
    "elif day_number == 5:\n",
    "    print(\"Friday\")\n",
    "elif day_number == 6:\n",
    "    print(\"Saturday\")\n",
    "elif day_number == 7:\n",
    "    print(\"Sunday\")\n",
    "else:\n",
    "    print(\"Invalid input. Please enter a number between 1 and 7.\")\n"
   ]
  },
  {
   "cell_type": "code",
   "execution_count": 40,
   "id": "4c17f2f0-0d02-4936-814e-839d66381b7e",
   "metadata": {},
   "outputs": [
    {
     "name": "stdin",
     "output_type": "stream",
     "text": [
      "Enter a year:  2038\n"
     ]
    },
    {
     "name": "stdout",
     "output_type": "stream",
     "text": [
      "Not a leap year\n"
     ]
    }
   ],
   "source": [
    "def is_leap_year(year):\n",
    "    if (year % 4 == 0 and year % 100 != 0) or (year % 400 == 0):\n",
    "        return True\n",
    "    else:\n",
    "        return False\n",
    "\n",
    "year_input = int(input(\"Enter a year: \"))\n",
    "if is_leap_year(year_input):\n",
    "    print(\"Leap year\")\n",
    "else:\n",
    "    print(\"Not a leap year\")\n"
   ]
  },
  {
   "cell_type": "code",
   "execution_count": 41,
   "id": "0f64c991-11e9-4709-9160-f14c4f0fb652",
   "metadata": {},
   "outputs": [
    {
     "name": "stdin",
     "output_type": "stream",
     "text": [
      "Enter a number between 1 and 10:  5\n"
     ]
    },
    {
     "name": "stdout",
     "output_type": "stream",
     "text": [
      "Number is within the specified range.\n"
     ]
    }
   ],
   "source": [
    "num = int(input(\"Enter a number between 1 and 10: \"))\n",
    "assert 1 <= num <= 10, \"Number must be between 1 and 10\"\n",
    "print(\"Number is within the specified range.\")\n"
   ]
  },
  {
   "cell_type": "code",
   "execution_count": 44,
   "id": "631b7648-f359-4fc1-81e2-6efb1deac6f4",
   "metadata": {},
   "outputs": [
    {
     "name": "stdin",
     "output_type": "stream",
     "text": [
      "Enter your age:  24\n"
     ]
    },
    {
     "name": "stdout",
     "output_type": "stream",
     "text": [
      "You are not eligible for a senior citizen discount\n"
     ]
    }
   ],
   "source": [
    "age = int(input(\"Enter your age: \"))\n",
    "if age >= 60:\n",
    "    print(\"You are eligible for a senior citizen discount.\")\n",
    "else:\n",
    "    print(\"You are not eligible for a senior citizen discount\")\n"
   ]
  },
  {
   "cell_type": "code",
   "execution_count": 45,
   "id": "ff81c3bd-3514-4adb-a923-9c7095105ab7",
   "metadata": {},
   "outputs": [
    {
     "name": "stdin",
     "output_type": "stream",
     "text": [
      "Enter a character:  vartika\n"
     ]
    },
    {
     "name": "stdout",
     "output_type": "stream",
     "text": [
      "Lowercase character\n"
     ]
    }
   ],
   "source": [
    "char = input(\"Enter a character: \")\n",
    "if char.islower():\n",
    "    print(\"Lowercase character\")\n",
    "elif char.isupper():\n",
    "    print(\"Uppercase character\")\n",
    "else:\n",
    "    print(\"Neither uppercase nor lowercase character\")\n"
   ]
  },
  {
   "cell_type": "code",
   "execution_count": 47,
   "id": "e7730883-eaea-4d40-9c26-e964d12294f7",
   "metadata": {},
   "outputs": [
    {
     "name": "stdin",
     "output_type": "stream",
     "text": [
      "Enter coefficient a:  54\n",
      "Enter coefficient b:  74\n",
      "Enter coefficient c:  45\n"
     ]
    },
    {
     "name": "stdout",
     "output_type": "stream",
     "text": [
      "Two complex roots: (-0.08198157500361747+0j) and (-1.288388795366753+0j)\n"
     ]
    }
   ],
   "source": [
    "import cmath\n",
    "\n",
    "a = float(input(\"Enter coefficient a: \"))\n",
    "b = float(input(\"Enter coefficient b: \"))\n",
    "c = float(input(\"Enter coefficient c: \"))\n",
    "discriminant = (b ** 2) - (4 * a * c)\n",
    "\n",
    "if discriminant > 0:\n",
    "    root1 = (-b + cmath.sqrt(discriminant)) / (2 * a)\n",
    "    root2 = (-b - cmath.sqrt(discriminant)) / (2 * a)\n",
    "    print(\"Two distinct real roots:\", root1, \"and\", root2)\n",
    "elif discriminant == 0:\n",
    "    root = -b / (2 * a)\n",
    "    print(\"One real root:\", root)\n",
    "else:\n",
    "    real_part = -b / (2 * a)\n",
    "    imaginary_part = cmath.sqrt(-discriminant) / (2 * a)\n",
    "    print(\"Two complex roots:\", real_part + imaginary_part, \"and\", real_part - imaginary_part)\n"
   ]
  },
  {
   "cell_type": "code",
   "execution_count": 48,
   "id": "cb0d5789-d4af-454e-8daa-c6dba24c148e",
   "metadata": {},
   "outputs": [
    {
     "name": "stdin",
     "output_type": "stream",
     "text": [
      "Enter a year:  2025\n"
     ]
    },
    {
     "name": "stdout",
     "output_type": "stream",
     "text": [
      "Not a century year\n"
     ]
    }
   ],
   "source": [
    "year = int(input(\"Enter a year: \"))\n",
    "if year % 100 == 0:\n",
    "    print(\"Century year\")\n",
    "else:\n",
    "    print(\"Not a century year\")\n"
   ]
  },
  {
   "cell_type": "code",
   "execution_count": 49,
   "id": "a73f3748-c2d8-4c8d-83b0-15aa464d4747",
   "metadata": {},
   "outputs": [
    {
     "name": "stdin",
     "output_type": "stream",
     "text": [
      "Enter a number:  8\n"
     ]
    },
    {
     "name": "stdout",
     "output_type": "stream",
     "text": [
      "It is not a perfect square\n"
     ]
    }
   ],
   "source": [
    "num = int(input(\"Enter a number: \"))\n",
    "sqrt = num ** 0.5\n",
    "if int(sqrt) == sqrt:\n",
    "    print(\"It is a perfect square\")\n",
    "else:\n",
    "    print(\"It is not a perfect square\")\n"
   ]
  },
  {
   "cell_type": "code",
   "execution_count": null,
   "id": "1043ad8d-675e-4cec-ae6a-b90bce86e1b3",
   "metadata": {},
   "outputs": [],
   "source": [
    "21. Purpose of \"continue\" and \"break\" statements within if-else loops:\n",
    "continue statement: It skips the rest of the code inside a loop for the current iteration and continues \n",
    "with the next iteration.\n",
    "break statement: It immediately exits the loop, bypassing the rest of the code inside the loop."
   ]
  },
  {
   "cell_type": "code",
   "execution_count": 50,
   "id": "84705147-491c-4e5c-90b9-3b2db7386db4",
   "metadata": {},
   "outputs": [
    {
     "name": "stdin",
     "output_type": "stream",
     "text": [
      "Enter weight in kg:  95\n",
      "Enter height in meters:  6\n"
     ]
    },
    {
     "name": "stdout",
     "output_type": "stream",
     "text": [
      "Underweight\n"
     ]
    }
   ],
   "source": [
    "weight = float(input(\"Enter weight in kg: \"))\n",
    "height = float(input(\"Enter height in meters: \"))\n",
    "bmi = weight / (height ** 2)\n",
    "\n",
    "if bmi < 18.5:\n",
    "    print(\"Underweight\")\n",
    "elif 18.5 <= bmi < 25:\n",
    "    print(\"Normal weight\")\n",
    "elif 25 <= bmi < 30:\n",
    "    print(\"Overweight\")\n",
    "else:\n",
    "    print(\"Obese\")\n"
   ]
  },
  {
   "cell_type": "code",
   "execution_count": null,
   "id": "584ef6b7-5a6b-4e1b-8a01-e781bc3048cf",
   "metadata": {},
   "outputs": [],
   "source": [
    "23. Use the \"filter()\" function with if-else statements to filter elements from a list:\n",
    "The filter() function filters elements of a sequence based on a function \n",
    "(or condition). It returns an iterator containing the elements for which the function returns True."
   ]
  },
  {
   "cell_type": "code",
   "execution_count": 52,
   "id": "b93269b3-2c10-4427-9ce2-8b5ca2b0d76c",
   "metadata": {},
   "outputs": [
    {
     "name": "stdin",
     "output_type": "stream",
     "text": [
      "Enter weight in kg:  95\n",
      "Enter height in meters:  1000\n"
     ]
    },
    {
     "name": "stdout",
     "output_type": "stream",
     "text": [
      "Underweight\n"
     ]
    }
   ],
   "source": [
    "weight = float(input(\"Enter weight in kg: \"))\n",
    "height = float(input(\"Enter height in meters: \"))\n",
    "bmi = weight / (height ** 2)\n",
    "\n",
    "if bmi < 18.5:\n",
    "    print(\"Underweight\")\n",
    "elif 18.5 <= bmi < 25:\n",
    "    print(\"Normal weight\")\n",
    "elif 25 <= bmi < 30:\n",
    "    print(\"Overweight\")\n",
    "else:\n",
    "    print(\"Obese\")\n"
   ]
  },
  {
   "cell_type": "code",
   "execution_count": 54,
   "id": "97956bc9-4f56-48a2-a8a9-db60e6500011",
   "metadata": {},
   "outputs": [
    {
     "data": {
      "text/plain": [
       "[1, 2]"
      ]
     },
     "execution_count": 54,
     "metadata": {},
     "output_type": "execute_result"
    }
   ],
   "source": [
    "numbers = [1, 2,]\n",
    "numbers\n"
   ]
  },
  {
   "cell_type": "code",
   "execution_count": 55,
   "id": "322a9c8c-55dd-483f-a0ea-ec4ddd818ebb",
   "metadata": {},
   "outputs": [
    {
     "name": "stdout",
     "output_type": "stream",
     "text": [
      "[1, 4, 9, 16, 25]\n"
     ]
    }
   ],
   "source": [
    "# Define a function to square a number\n",
    "def square(num):\n",
    "    return num ** 2\n",
    "\n",
    "# List of numbers\n",
    "numbers = [1, 2, 3, 4, 5]\n",
    "\n",
    "# Using map() to square each element in the list\n",
    "squared_numbers = list(map(square, numbers))\n",
    "print(squared_numbers)\n",
    "# Output: [1, 4, 9, 16, 25]\n"
   ]
  },
  {
   "cell_type": "code",
   "execution_count": null,
   "id": "6ecfdd95-1533-4f95-94be-128eddde7021",
   "metadata": {},
   "outputs": [],
   "source": [
    "Purpose of the map() function in Python:\n",
    "\n",
    "The map() function in Python is used to apply a specified function to each item in\n",
    "an iterable (like a list) and returns an iterator that yields the results. \n",
    "It helps in performing an operation on each element of the iterable without using explicit loops.\n",
    "\n",
    "Difference between map() and list comprehension in Python:\n",
    "\n",
    "map() function: It applies a function to each element of an iterable and returns an iterator.\n",
    "List comprehension: It constructs a new list by evaluating an expression for each item in an iterable.\n",
    "You might choose map() over list comprehension when:\n",
    "\n",
    "You have an existing function that performs the required operation on elements.\n",
    "You prefer a more functional programming approach or want to apply the same function to multiple iterables simultaneously."
   ]
  },
  {
   "cell_type": "code",
   "execution_count": 56,
   "id": "02b35b09-f1ae-4b8f-ae63-71a23069cfe8",
   "metadata": {},
   "outputs": [
    {
     "name": "stdout",
     "output_type": "stream",
     "text": [
      "['ALICE', 'BOB', 'CHARLIE']\n"
     ]
    }
   ],
   "source": [
    "# List of names\n",
    "names = ['Alice', 'Bob', 'Charlie']\n",
    "\n",
    "# Using map() to convert names to uppercase\n",
    "upper_names = list(map(str.upper, names))\n",
    "print(upper_names)\n",
    "# Output: ['ALICE', 'BOB', 'CHARLIE']\n"
   ]
  },
  {
   "cell_type": "code",
   "execution_count": 57,
   "id": "bd7f3440-0522-4c36-95d5-a1fadfec6d81",
   "metadata": {},
   "outputs": [
    {
     "name": "stdout",
     "output_type": "stream",
     "text": [
      "[5, 6, 6]\n"
     ]
    }
   ],
   "source": [
    "# List of strings\n",
    "words = ['apple', 'banana', 'orange']\n",
    "\n",
    "# Using map() to calculate the length of each word\n",
    "word_lengths = list(map(len, words))\n",
    "print(word_lengths)\n",
    "# Output: [5, 6, 6]\n"
   ]
  },
  {
   "cell_type": "code",
   "execution_count": 58,
   "id": "a93675ce-aa9f-4dcb-b295-97af2c6e843a",
   "metadata": {},
   "outputs": [
    {
     "name": "stdout",
     "output_type": "stream",
     "text": [
      "[5, 7, 9]\n"
     ]
    }
   ],
   "source": [
    "# Custom function to add elements of two lists\n",
    "def add_elements(x, y):\n",
    "    return x + y\n",
    "\n",
    "# Lists\n",
    "list1 = [1, 2, 3]\n",
    "list2 = [4, 5, 6]\n",
    "\n",
    "# Using map() to apply custom function to elements of both lists\n",
    "result = list(map(add_elements, list1, list2))\n",
    "print(result)\n",
    "# Output: [5, 7, 9]\n"
   ]
  },
  {
   "cell_type": "code",
   "execution_count": 59,
   "id": "161aa59e-91de-4d78-a656-cf136dd88cb5",
   "metadata": {},
   "outputs": [
    {
     "name": "stdout",
     "output_type": "stream",
     "text": [
      "[32.0, 50.0, 68.0, 86.0]\n"
     ]
    }
   ],
   "source": [
    "# Custom function to convert Celsius to Fahrenheit\n",
    "def celsius_to_fahrenheit(celsius):\n",
    "    return (celsius * 9/5) + 32\n",
    "\n",
    "# List of temperatures in Celsius\n",
    "temperatures_celsius = [0, 10, 20, 30]\n",
    "\n",
    "# Using map() to convert temperatures to Fahrenheit\n",
    "temperatures_fahrenheit = list(map(celsius_to_fahrenheit, temperatures_celsius))\n",
    "print(temperatures_fahrenheit)\n",
    "# Output: [32.0, 50.0, 68.0, 86.0]\n"
   ]
  },
  {
   "cell_type": "code",
   "execution_count": 60,
   "id": "3ce960c0-6262-4098-b07a-d675a6680271",
   "metadata": {},
   "outputs": [
    {
     "name": "stdout",
     "output_type": "stream",
     "text": [
      "[2, 4, 2, 4]\n"
     ]
    }
   ],
   "source": [
    "# List of floating-point numbers\n",
    "float_numbers = [2.4, 3.7, 1.8, 4.5]\n",
    "\n",
    "# Using map() to round each number to the nearest integer\n",
    "rounded_numbers = list(map(round, float_numbers))\n",
    "print(rounded_numbers)\n",
    "# Output: [2, 4, 2, 4]\n"
   ]
  },
  {
   "cell_type": "code",
   "execution_count": null,
   "id": "ad539e3e-ad40-44a2-a605-206618a0ff8f",
   "metadata": {},
   "outputs": [],
   "source": [
    "What is the `reduce()` function in Python, and what module should you import to use it? Provide an example of its\n",
    "basic usage.\n",
    "Write a Python program that uses the `reduce()` function to find the product of all elements in a list.\n",
    "Create a Python program that uses `reduce()` to find the maximum element in a list of numbers.\n",
    "How can you use the `reduce()` function to concatenate a list of strings into a single string?\n",
    "Write a Python program that calculates the factorial of a number using the `reduce()` function.\n",
    "Create a Python program that uses `reduce()` to find the GCD (Greatest Common Divisor) of a list of numbers.\n",
    "Write a Python program that uses the `reduce()` function to find the sum of the digits of a given number.\n"
   ]
  },
  {
   "cell_type": "code",
   "execution_count": 61,
   "id": "958fb0bc-3313-4e52-b6d7-8cdd1808ab03",
   "metadata": {},
   "outputs": [
    {
     "name": "stdout",
     "output_type": "stream",
     "text": [
      "Sum of numbers: 15\n"
     ]
    }
   ],
   "source": [
    "from functools import reduce\n",
    "\n",
    "# Example function to add two numbers\n",
    "def add(x, y):\n",
    "    return x + y\n",
    "\n",
    "# List of numbers\n",
    "numbers = [1, 2, 3, 4, 5]\n",
    "\n",
    "# Using reduce() to find the sum of numbers\n",
    "sum_of_numbers = reduce(add, numbers)\n",
    "print(\"Sum of numbers:\", sum_of_numbers)\n",
    "# Output: Sum of numbers: 15\n"
   ]
  },
  {
   "cell_type": "code",
   "execution_count": 62,
   "id": "315f07fb-3ff0-46e7-a0a5-e0f6f110a61e",
   "metadata": {},
   "outputs": [
    {
     "name": "stdout",
     "output_type": "stream",
     "text": [
      "Product of numbers: 120\n"
     ]
    }
   ],
   "source": [
    "from functools import reduce\n",
    "\n",
    "# Example function to multiply two numbers\n",
    "def multiply(x, y):\n",
    "    return x * y\n",
    "\n",
    "# List of numbers\n",
    "numbers = [1, 2, 3, 4, 5]\n",
    "\n",
    "# Using reduce() to find the product of numbers\n",
    "product_of_numbers = reduce(multiply, numbers)\n",
    "print(\"Product of numbers:\", product_of_numbers)\n",
    "# Output: Product of numbers: 120\n"
   ]
  },
  {
   "cell_type": "code",
   "execution_count": 63,
   "id": "1a40075b-b62c-424c-8915-6dcdfb5f4c4c",
   "metadata": {},
   "outputs": [
    {
     "name": "stdout",
     "output_type": "stream",
     "text": [
      "Maximum number: 20\n"
     ]
    }
   ],
   "source": [
    "from functools import reduce\n",
    "\n",
    "# List of numbers\n",
    "numbers = [10, 5, 8, 20, 3]\n",
    "\n",
    "# Using reduce() to find the maximum number\n",
    "max_number = reduce(lambda x, y: x if x > y else y, numbers)\n",
    "print(\"Maximum number:\", max_number)\n",
    "# Output: Maximum number: 20\n"
   ]
  },
  {
   "cell_type": "code",
   "execution_count": 64,
   "id": "081b8489-ea07-46da-924a-e9c98b4f539e",
   "metadata": {},
   "outputs": [
    {
     "name": "stdout",
     "output_type": "stream",
     "text": [
      "Concatenated string: Hello World!\n"
     ]
    }
   ],
   "source": [
    "from functools import reduce\n",
    "\n",
    "# List of strings\n",
    "strings = ['Hello', ' ', 'World', '!']\n",
    "\n",
    "# Using reduce() to concatenate strings\n",
    "concatenated_string = reduce(lambda x, y: x + y, strings)\n",
    "print(\"Concatenated string:\", concatenated_string)\n",
    "# Output: Concatenated string: Hello World!\n"
   ]
  },
  {
   "cell_type": "code",
   "execution_count": 65,
   "id": "b363a4a3-54a1-442f-865d-857ad9cfc29f",
   "metadata": {},
   "outputs": [
    {
     "name": "stdout",
     "output_type": "stream",
     "text": [
      "Factorial of 5 is: 120\n"
     ]
    }
   ],
   "source": [
    "from functools import reduce\n",
    "\n",
    "# Function to calculate factorial\n",
    "def factorial(n, m):\n",
    "    return n * m\n",
    "\n",
    "# Number to calculate factorial\n",
    "number = 5\n",
    "\n",
    "# Using reduce() to calculate factorial\n",
    "fact = reduce(factorial, range(1, number + 1))\n",
    "print(\"Factorial of\", number, \"is:\", fact)\n",
    "# Output: Factorial of 5 is: 120\n"
   ]
  },
  {
   "cell_type": "code",
   "execution_count": 66,
   "id": "02ff7e2a-2ef8-4955-be29-4de2cc4ddccc",
   "metadata": {},
   "outputs": [
    {
     "name": "stdout",
     "output_type": "stream",
     "text": [
      "Factorial of 5 is: 120\n"
     ]
    }
   ],
   "source": [
    "from functools import reduce\n",
    "\n",
    "# Function to calculate factorial\n",
    "def factorial(n, m):\n",
    "    return n * m\n",
    "\n",
    "# Number to calculate factorial\n",
    "number = 5\n",
    "\n",
    "# Using reduce() to calculate factorial\n",
    "fact = reduce(factorial, range(1, number + 1))\n",
    "print(\"Factorial of\", number, \"is:\", fact)\n",
    "# Output: Factorial of 5 is: 120\n"
   ]
  },
  {
   "cell_type": "code",
   "execution_count": 67,
   "id": "72b6bba5-0c80-4935-ae92-07d7aabe58b7",
   "metadata": {},
   "outputs": [
    {
     "name": "stdout",
     "output_type": "stream",
     "text": [
      "GCD of numbers: 10\n"
     ]
    }
   ],
   "source": [
    "from functools import reduce\n",
    "import math\n",
    "\n",
    "# List of numbers\n",
    "numbers = [20, 30, 40, 50]\n",
    "\n",
    "# Using reduce() to find the GCD\n",
    "gcd = reduce(math.gcd, numbers)\n",
    "print(\"GCD of numbers:\", gcd)\n",
    "# Output: GCD of numbers: 10\n"
   ]
  },
  {
   "cell_type": "code",
   "execution_count": 68,
   "id": "6e4859b8-2702-43e1-a000-5a5de308435d",
   "metadata": {},
   "outputs": [
    {
     "name": "stdout",
     "output_type": "stream",
     "text": [
      "Sum of digits in 12345 is: 15\n"
     ]
    }
   ],
   "source": [
    "from functools import reduce\n",
    "\n",
    "# Function to sum the digits\n",
    "def sum_digits(x, y):\n",
    "    return int(x) + int(y)\n",
    "\n",
    "# Number to find the sum of digits\n",
    "number = 12345\n",
    "\n",
    "# Using reduce() to find the sum of digits\n",
    "sum_of_digits = reduce(sum_digits, str(number))\n",
    "print(\"Sum of digits in\", number, \"is:\", sum_of_digits)\n",
    "# Output: Sum of digits in 12345 is: 15\n"
   ]
  },
  {
   "cell_type": "code",
   "execution_count": null,
   "id": "dcb7c889-4575-4281-a608-779486e27d58",
   "metadata": {},
   "outputs": [],
   "source": [
    "\n",
    "Explain the purpose of the `filter()` function in Python and provide an example of how it can be used \n",
    "to filter elements from an iterable.\n",
    "Write a Python program that uses the `filter()` function to select even numbers from a list of integers.\n",
    "Create a Python program that uses the `filter()` function to select names that start with a specific \n",
    "letter from a list of strings.\n",
    "Write a Python program that uses the `filter()` function to select prime numbers from a list of integers.\n",
    "How can you use the `filter()` function to remove None values from a list in Python?\n",
    "Create a Python program that uses `filter()` to select words longer than a certain length from a list of strings.\n"
   ]
  },
  {
   "cell_type": "code",
   "execution_count": null,
   "id": "934180a3-77d6-4e7e-b085-371830423959",
   "metadata": {},
   "outputs": [],
   "source": []
  }
 ],
 "metadata": {
  "kernelspec": {
   "display_name": "Python 3 (ipykernel)",
   "language": "python",
   "name": "python3"
  },
  "language_info": {
   "codemirror_mode": {
    "name": "ipython",
    "version": 3
   },
   "file_extension": ".py",
   "mimetype": "text/x-python",
   "name": "python",
   "nbconvert_exporter": "python",
   "pygments_lexer": "ipython3",
   "version": "3.10.8"
  }
 },
 "nbformat": 4,
 "nbformat_minor": 5
}
